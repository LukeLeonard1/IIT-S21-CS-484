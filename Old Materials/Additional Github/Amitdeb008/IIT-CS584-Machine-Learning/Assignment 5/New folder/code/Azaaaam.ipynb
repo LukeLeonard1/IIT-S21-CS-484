{
  "nbformat": 4,
  "nbformat_minor": 0,
  "metadata": {
    "colab": {
      "name": "Azaaaam.ipynb",
      "provenance": [],
      "collapsed_sections": []
    },
    "kernelspec": {
      "name": "python3",
      "display_name": "Python 3"
    }
  },
  "cells": [
    {
      "cell_type": "code",
      "metadata": {
        "id": "Ln_dM4zrYngn",
        "colab_type": "code",
        "outputId": "932050e0-ecda-4fd3-c326-89af882d88d1",
        "colab": {
          "base_uri": "https://localhost:8080/",
          "height": 206
        }
      },
      "source": [
        "import pandas as pd\n",
        "data = pd.read_csv('/content/SpiralWithCluster.csv')\n",
        "data.head()\n"
      ],
      "execution_count": 49,
      "outputs": [
        {
          "output_type": "execute_result",
          "data": {
            "text/html": [
              "<div>\n",
              "<style scoped>\n",
              "    .dataframe tbody tr th:only-of-type {\n",
              "        vertical-align: middle;\n",
              "    }\n",
              "\n",
              "    .dataframe tbody tr th {\n",
              "        vertical-align: top;\n",
              "    }\n",
              "\n",
              "    .dataframe thead th {\n",
              "        text-align: right;\n",
              "    }\n",
              "</style>\n",
              "<table border=\"1\" class=\"dataframe\">\n",
              "  <thead>\n",
              "    <tr style=\"text-align: right;\">\n",
              "      <th></th>\n",
              "      <th>id</th>\n",
              "      <th>x</th>\n",
              "      <th>y</th>\n",
              "      <th>SpectralCluster</th>\n",
              "    </tr>\n",
              "  </thead>\n",
              "  <tbody>\n",
              "    <tr>\n",
              "      <th>0</th>\n",
              "      <td>1</td>\n",
              "      <td>1.390340</td>\n",
              "      <td>-0.018146</td>\n",
              "      <td>0</td>\n",
              "    </tr>\n",
              "    <tr>\n",
              "      <th>1</th>\n",
              "      <td>2</td>\n",
              "      <td>-1.136269</td>\n",
              "      <td>-1.093869</td>\n",
              "      <td>1</td>\n",
              "    </tr>\n",
              "    <tr>\n",
              "      <th>2</th>\n",
              "      <td>3</td>\n",
              "      <td>1.194276</td>\n",
              "      <td>0.205196</td>\n",
              "      <td>0</td>\n",
              "    </tr>\n",
              "    <tr>\n",
              "      <th>3</th>\n",
              "      <td>4</td>\n",
              "      <td>1.666396</td>\n",
              "      <td>0.348524</td>\n",
              "      <td>0</td>\n",
              "    </tr>\n",
              "    <tr>\n",
              "      <th>4</th>\n",
              "      <td>5</td>\n",
              "      <td>0.135881</td>\n",
              "      <td>-1.963015</td>\n",
              "      <td>1</td>\n",
              "    </tr>\n",
              "  </tbody>\n",
              "</table>\n",
              "</div>"
            ],
            "text/plain": [
              "   id         x         y  SpectralCluster\n",
              "0   1  1.390340 -0.018146                0\n",
              "1   2 -1.136269 -1.093869                1\n",
              "2   3  1.194276  0.205196                0\n",
              "3   4  1.666396  0.348524                0\n",
              "4   5  0.135881 -1.963015                1"
            ]
          },
          "metadata": {
            "tags": []
          },
          "execution_count": 49
        }
      ]
    },
    {
      "cell_type": "code",
      "metadata": {
        "id": "yz1Ki4fWZAxo",
        "colab_type": "code",
        "colab": {}
      },
      "source": [
        "X=data[['x','y']]\n",
        "y=data['SpectralCluster']"
      ],
      "execution_count": 0,
      "outputs": []
    },
    {
      "cell_type": "code",
      "metadata": {
        "id": "HLvb_EpbZZZa",
        "colab_type": "code",
        "colab": {}
      },
      "source": [
        "\n",
        "from sklearn.model_selection import train_test_split # Import train_test_split function\n",
        "\n",
        "X_train, X_test, y_train, y_test = train_test_split(X, y, test_size=0.3, random_state=2)\n"
      ],
      "execution_count": 0,
      "outputs": []
    },
    {
      "cell_type": "code",
      "metadata": {
        "id": "3QcnRg_0TMVt",
        "colab_type": "code",
        "colab": {}
      },
      "source": [
        ""
      ],
      "execution_count": 0,
      "outputs": []
    },
    {
      "cell_type": "code",
      "metadata": {
        "id": "oYL_vujLTMa8",
        "colab_type": "code",
        "colab": {}
      },
      "source": [
        ""
      ],
      "execution_count": 0,
      "outputs": []
    },
    {
      "cell_type": "code",
      "metadata": {
        "id": "dIGIR2LXTMfK",
        "colab_type": "code",
        "colab": {}
      },
      "source": [
        ""
      ],
      "execution_count": 0,
      "outputs": []
    },
    {
      "cell_type": "code",
      "metadata": {
        "id": "nNqGb_jsTMiK",
        "colab_type": "code",
        "colab": {}
      },
      "source": [
        ""
      ],
      "execution_count": 0,
      "outputs": []
    },
    {
      "cell_type": "code",
      "metadata": {
        "id": "-Oep_hFzTMk0",
        "colab_type": "code",
        "colab": {}
      },
      "source": [
        "from sklearn.neural_network import MLPClassifier\n",
        "\n",
        "clf = MLPClassifier(solver='lbfgs',max_iter=5000,hidden_layer_sizes=(5, 2),learning_rate_init=0.1, random_state=20191108)\n",
        "\n",
        "\n"
      ],
      "execution_count": 0,
      "outputs": []
    },
    {
      "cell_type": "code",
      "metadata": {
        "id": "ynWaYeskTMZH",
        "colab_type": "code",
        "colab": {
          "base_uri": "https://localhost:8080/",
          "height": 146
        },
        "outputId": "907b4a9e-249b-403d-9b78-f5be2a3c32d3"
      },
      "source": [
        "clf.fit(X_train, y_train)"
      ],
      "execution_count": 53,
      "outputs": [
        {
          "output_type": "execute_result",
          "data": {
            "text/plain": [
              "MLPClassifier(activation='relu', alpha=0.0001, batch_size='auto', beta_1=0.9,\n",
              "              beta_2=0.999, early_stopping=False, epsilon=1e-08,\n",
              "              hidden_layer_sizes=(5, 2), learning_rate='constant',\n",
              "              learning_rate_init=0.1, max_iter=5000, momentum=0.9,\n",
              "              n_iter_no_change=10, nesterovs_momentum=True, power_t=0.5,\n",
              "              random_state=20191108, shuffle=True, solver='lbfgs', tol=0.0001,\n",
              "              validation_fraction=0.1, verbose=False, warm_start=False)"
            ]
          },
          "metadata": {
            "tags": []
          },
          "execution_count": 53
        }
      ]
    },
    {
      "cell_type": "code",
      "metadata": {
        "id": "_Gx9s5NFTMSv",
        "colab_type": "code",
        "colab": {
          "base_uri": "https://localhost:8080/",
          "height": 128
        },
        "outputId": "f610b9e1-f3ec-4a71-caff-7f55d44f266a"
      },
      "source": [
        "from sklearn.metrics import accuracy_score\n",
        "\n",
        "y_pred=clf.predict(X_test)\n",
        "print(clf.n_layers_)\n",
        "print(clf.loss_)\n",
        "print(clf.n_iter_)\n",
        "print(clf.n_layers_)\n",
        "print(clf.out_activation_)\n",
        "print(1-accuracy_score(y_test, y_pred))\n"
      ],
      "execution_count": 54,
      "outputs": [
        {
          "output_type": "stream",
          "text": [
            "4\n",
            "0.5912052661581091\n",
            "31\n",
            "4\n",
            "logistic\n",
            "0.5\n"
          ],
          "name": "stdout"
        }
      ]
    },
    {
      "cell_type": "code",
      "metadata": {
        "id": "xZnbQCjkabNL",
        "colab_type": "code",
        "colab": {
          "base_uri": "https://localhost:8080/",
          "height": 35
        },
        "outputId": "bf8ffd78-46c5-4b1a-a552-af36e747f0ae"
      },
      "source": [
        "from sklearn.metrics import accuracy_score\n",
        "accuracy_score(y_test, y_pred)\n"
      ],
      "execution_count": 55,
      "outputs": [
        {
          "output_type": "execute_result",
          "data": {
            "text/plain": [
              "0.5"
            ]
          },
          "metadata": {
            "tags": []
          },
          "execution_count": 55
        }
      ]
    },
    {
      "cell_type": "markdown",
      "metadata": {
        "id": "muDrW2Uie-ie",
        "colab_type": "text"
      },
      "source": [
        "# **A)**\t\n",
        "\n",
        "(5 points) What percent of the observations have SpectralCluster equals to 1?"
      ]
    },
    {
      "cell_type": "code",
      "metadata": {
        "id": "CGbQurznczgA",
        "colab_type": "code",
        "colab": {
          "base_uri": "https://localhost:8080/",
          "height": 35
        },
        "outputId": "72471405-6f60-452c-b7bb-1fbc3a4e0cd9"
      },
      "source": [
        "count=0\n",
        "for i in range(len(y_pred)):\n",
        "  if(y_pred[i]==1):\n",
        "    count=count+1\n",
        "count/len(y_pred)"
      ],
      "execution_count": 56,
      "outputs": [
        {
          "output_type": "execute_result",
          "data": {
            "text/plain": [
              "0.8333333333333334"
            ]
          },
          "metadata": {
            "tags": []
          },
          "execution_count": 56
        }
      ]
    },
    {
      "cell_type": "code",
      "metadata": {
        "id": "u6JZ66IBwNxW",
        "colab_type": "code",
        "colab": {}
      },
      "source": [
        ""
      ],
      "execution_count": 0,
      "outputs": []
    },
    {
      "cell_type": "markdown",
      "metadata": {
        "id": "E1SL03wPwRrQ",
        "colab_type": "text"
      },
      "source": [
        "# **B)**"
      ]
    },
    {
      "cell_type": "code",
      "metadata": {
        "id": "dL4Q3X86ryjk",
        "colab_type": "code",
        "colab": {
          "base_uri": "https://localhost:8080/",
          "height": 128
        },
        "outputId": "a4c8537d-1e5d-4fbf-c107-f68cdd673ad5"
      },
      "source": [
        "from sklearn.neural_network import MLPClassifier\n",
        "\n",
        "clf = MLPClassifier(solver='lbfgs',max_iter=5000,hidden_layer_sizes=(5, 2),learning_rate_init=0.1, random_state=20191108)\n",
        "clf.fit(X_train, y_train)\n",
        "y_pred=clf.predict(X_test)\n",
        "from sklearn.metrics import accuracy_score\n",
        "print(clf.n_layers_)\n",
        "print(clf.loss_)\n",
        "print(clf.out_activation_)\n",
        "print(1-accuracy_score(y_test, y_pred))\n",
        "print(clf.n_iter_)\n",
        "\n",
        "accuracy_score(y_test, y_pred)"
      ],
      "execution_count": 57,
      "outputs": [
        {
          "output_type": "stream",
          "text": [
            "4\n",
            "0.5912052661581091\n",
            "logistic\n",
            "0.5\n",
            "31\n"
          ],
          "name": "stdout"
        },
        {
          "output_type": "execute_result",
          "data": {
            "text/plain": [
              "0.5"
            ]
          },
          "metadata": {
            "tags": []
          },
          "execution_count": 57
        }
      ]
    },
    {
      "cell_type": "code",
      "metadata": {
        "id": "bO1kHi0pry2P",
        "colab_type": "code",
        "colab": {
          "base_uri": "https://localhost:8080/",
          "height": 128
        },
        "outputId": "965026db-c2e3-4cee-ae3c-20dcf37ee1c9"
      },
      "source": [
        "from sklearn.neural_network import MLPClassifier\n",
        "\n",
        "clf = MLPClassifier(activation='tanh',solver='lbfgs',max_iter=5000,hidden_layer_sizes=(5, 2),learning_rate_init=0.1, random_state=20191108)\n",
        "clf.fit(X_train, y_train)\n",
        "y_pred=clf.predict(X_test)\n",
        "from sklearn.metrics import accuracy_score\n",
        "print(clf.n_layers_)\n",
        "print(clf.loss_)\n",
        "print(clf.out_activation_)\n",
        "print(1-accuracy_score(y_test, y_pred))\n",
        "print(clf.n_iter_)\n",
        "\n",
        "accuracy_score(y_test, y_pred)"
      ],
      "execution_count": 58,
      "outputs": [
        {
          "output_type": "stream",
          "text": [
            "4\n",
            "0.34133584757637336\n",
            "logistic\n",
            "0.3666666666666667\n",
            "265\n"
          ],
          "name": "stdout"
        },
        {
          "output_type": "execute_result",
          "data": {
            "text/plain": [
              "0.6333333333333333"
            ]
          },
          "metadata": {
            "tags": []
          },
          "execution_count": 58
        }
      ]
    },
    {
      "cell_type": "code",
      "metadata": {
        "id": "Fn48k3qlsIUw",
        "colab_type": "code",
        "colab": {
          "base_uri": "https://localhost:8080/",
          "height": 128
        },
        "outputId": "cd788074-549a-4e80-923c-32b12805c141"
      },
      "source": [
        "from sklearn.neural_network import MLPClassifier\n",
        "\n",
        "clf = MLPClassifier(activation='identity',solver='lbfgs',max_iter=5000,hidden_layer_sizes=(5, 2),learning_rate_init=0.1, random_state=20191108)\n",
        "clf.fit(X_train, y_train)\n",
        "y_pred=clf.predict(X_test)\n",
        "from sklearn.metrics import accuracy_score\n",
        "print(clf.n_layers_)\n",
        "print(clf.loss_)\n",
        "print(clf.out_activation_)\n",
        "print(clf.n_iter_)\n",
        "\n",
        "print(1-accuracy_score(y_test, y_pred))\n",
        "\n",
        "accuracy_score(y_test, y_pred)"
      ],
      "execution_count": 59,
      "outputs": [
        {
          "output_type": "stream",
          "text": [
            "4\n",
            "0.6510118677469511\n",
            "logistic\n",
            "9\n",
            "0.5666666666666667\n"
          ],
          "name": "stdout"
        },
        {
          "output_type": "execute_result",
          "data": {
            "text/plain": [
              "0.43333333333333335"
            ]
          },
          "metadata": {
            "tags": []
          },
          "execution_count": 59
        }
      ]
    },
    {
      "cell_type": "code",
      "metadata": {
        "id": "rOJRB1EAsQtq",
        "colab_type": "code",
        "colab": {
          "base_uri": "https://localhost:8080/",
          "height": 128
        },
        "outputId": "2f57e56d-95b1-4ad7-b9cf-5faf4a6888d5"
      },
      "source": [
        "from sklearn.neural_network import MLPClassifier\n",
        "\n",
        "clf = MLPClassifier(activation='logistic',solver='lbfgs',max_iter=5000,hidden_layer_sizes=(5, 2),learning_rate_init=0.1, random_state=20191108)\n",
        "clf.fit(X_train, y_train)\n",
        "y_pred=clf.predict(X_test)\n",
        "from sklearn.metrics import accuracy_score\n",
        "print(clf.n_layers_)\n",
        "print(clf.loss_)\n",
        "print(clf.out_activation_)\n",
        "print(clf.n_iter_)\n",
        "print(1-accuracy_score(y_test, y_pred))\n",
        "accuracy_score(y_test, y_pred)"
      ],
      "execution_count": 60,
      "outputs": [
        {
          "output_type": "stream",
          "text": [
            "4\n",
            "0.0025273453377263363\n",
            "logistic\n",
            "911\n",
            "0.09999999999999998\n"
          ],
          "name": "stdout"
        },
        {
          "output_type": "execute_result",
          "data": {
            "text/plain": [
              "0.9"
            ]
          },
          "metadata": {
            "tags": []
          },
          "execution_count": 60
        }
      ]
    },
    {
      "cell_type": "code",
      "metadata": {
        "id": "pJztYqR6czjZ",
        "colab_type": "code",
        "colab": {}
      },
      "source": [
        ""
      ],
      "execution_count": 0,
      "outputs": []
    },
    {
      "cell_type": "markdown",
      "metadata": {
        "id": "ZMXZxg3JhhGD",
        "colab_type": "text"
      },
      "source": [
        "# **c)**\t(5 points) What is the activation function for the output layer?"
      ]
    },
    {
      "cell_type": "markdown",
      "metadata": {
        "id": "92snEo3nh43d",
        "colab_type": "text"
      },
      "source": [
        "Softmax\n",
        "\n",
        "MLPClassifier supports multi-class classification by applying Softmax as the output function."
      ]
    },
    {
      "cell_type": "markdown",
      "metadata": {
        "id": "z0WVOz67v7rq",
        "colab_type": "text"
      },
      "source": [
        "# ** D)**"
      ]
    },
    {
      "cell_type": "code",
      "metadata": {
        "id": "ApLD2jkjsdA3",
        "colab_type": "code",
        "colab": {}
      },
      "source": [
        "# Gave answers above"
      ],
      "execution_count": 0,
      "outputs": []
    },
    {
      "cell_type": "markdown",
      "metadata": {
        "id": "HSjFPL7ov5ly",
        "colab_type": "text"
      },
      "source": [
        "# **E)**"
      ]
    },
    {
      "cell_type": "code",
      "metadata": {
        "id": "EsplYw5zscf_",
        "colab_type": "code",
        "colab": {
          "base_uri": "https://localhost:8080/",
          "height": 283
        },
        "outputId": "3043975d-3f53-4518-f388-2dcdb38db6dd"
      },
      "source": [
        "import numpy as np\n",
        "import matplotlib.pyplot as plt\n",
        "\n",
        "w = svclassifier.coef_[0]\n",
        "print(w)\n",
        "\n",
        "a = -w[0] / w[1]\n",
        "\n",
        "xx = np.linspace(0,12)\n",
        "yy = a * xx - svclassifier.intercept_[0] / w[1]\n",
        "\n",
        "h0 = plt.plot(xx, yy, 'k-', label=\"non weighted div\")\n",
        "\n",
        "plt.scatter(X.iloc[:, 0], X.iloc[:, 1], c = y)\n",
        "plt.legend()\n",
        "plt.show()"
      ],
      "execution_count": 62,
      "outputs": [
        {
          "output_type": "stream",
          "text": [
            "[-0.01558306  0.35403518]\n"
          ],
          "name": "stdout"
        },
        {
          "output_type": "display_data",
          "data": {
            "image/png": "[encoded data removed]",
            "text/plain": [
              "<Figure size 432x288 with 1 Axes>"
            ]
          },
          "metadata": {
            "tags": []
          }
        }
      ]
    },
    {
      "cell_type": "code",
      "metadata": {
        "id": "8hsc2S_qtlEf",
        "colab_type": "code",
        "colab": {}
      },
      "source": [
        ""
      ],
      "execution_count": 0,
      "outputs": []
    },
    {
      "cell_type": "markdown",
      "metadata": {
        "id": "w8XZu9aTuqOa",
        "colab_type": "text"
      },
      "source": [
        "# **F)**"
      ]
    },
    {
      "cell_type": "code",
      "metadata": {
        "id": "SFHjqpFdczc2",
        "colab_type": "code",
        "colab": {}
      },
      "source": [
        "prob=clf.predict_proba(X_test)"
      ],
      "execution_count": 0,
      "outputs": []
    },
    {
      "cell_type": "code",
      "metadata": {
        "id": "oURgxcTUuYf9",
        "colab_type": "code",
        "colab": {
          "base_uri": "https://localhost:8080/",
          "height": 35
        },
        "outputId": "cc01f8f9-303e-4500-8fd5-54acad1cb1dd"
      },
      "source": [
        "np.mean(prob)"
      ],
      "execution_count": 64,
      "outputs": [
        {
          "output_type": "execute_result",
          "data": {
            "text/plain": [
              "0.5"
            ]
          },
          "metadata": {
            "tags": []
          },
          "execution_count": 64
        }
      ]
    },
    {
      "cell_type": "code",
      "metadata": {
        "id": "-cqOxsOLupZ5",
        "colab_type": "code",
        "colab": {
          "base_uri": "https://localhost:8080/",
          "height": 35
        },
        "outputId": "4ce6c373-f158-46a4-fe2d-3e5b8a5012cf"
      },
      "source": [
        "np.std(prob)"
      ],
      "execution_count": 65,
      "outputs": [
        {
          "output_type": "execute_result",
          "data": {
            "text/plain": [
              "0.48849588813942496"
            ]
          },
          "metadata": {
            "tags": []
          },
          "execution_count": 65
        }
      ]
    },
    {
      "cell_type": "markdown",
      "metadata": {
        "id": "SrCXNrOWsprh",
        "colab_type": "text"
      },
      "source": [
        "# Question 2"
      ]
    },
    {
      "cell_type": "code",
      "metadata": {
        "id": "DYwKX4MLdI9q",
        "colab_type": "code",
        "outputId": "4adacb89-ddc7-4e7c-c457-a07d75d9872f",
        "colab": {
          "base_uri": "https://localhost:8080/",
          "height": 35
        }
      },
      "source": [
        "from sklearn.svm import SVC  \n",
        "svclassifier = SVC(kernel='linear', C=1.0,random_state=20191108,decision_function_shape='ovr',max_iter=-1)\n",
        "svclassifier.fit(X_train, y_train)  \n",
        "svclassifier.score(X_train, y_train)"
      ],
      "execution_count": 66,
      "outputs": [
        {
          "output_type": "execute_result",
          "data": {
            "text/plain": [
              "0.5428571428571428"
            ]
          },
          "metadata": {
            "tags": []
          },
          "execution_count": 66
        }
      ]
    },
    {
      "cell_type": "code",
      "metadata": {
        "id": "SBpTVXooefA4",
        "colab_type": "code",
        "outputId": "eea7078c-cf50-4d91-fc17-b0805629b45d",
        "colab": {
          "base_uri": "https://localhost:8080/",
          "height": 35
        }
      },
      "source": [
        "svclassifier.coef_"
      ],
      "execution_count": 67,
      "outputs": [
        {
          "output_type": "execute_result",
          "data": {
            "text/plain": [
              "array([[-0.01558306,  0.35403518]])"
            ]
          },
          "metadata": {
            "tags": []
          },
          "execution_count": 67
        }
      ]
    },
    {
      "cell_type": "code",
      "metadata": {
        "id": "9s6_V-l9emmo",
        "colab_type": "code",
        "outputId": "d64fd2b9-562e-4a08-d144-166a38c23e43",
        "colab": {
          "base_uri": "https://localhost:8080/",
          "height": 35
        }
      },
      "source": [
        "svclassifier.intercept_"
      ],
      "execution_count": 68,
      "outputs": [
        {
          "output_type": "execute_result",
          "data": {
            "text/plain": [
              "array([0.05553071])"
            ]
          },
          "metadata": {
            "tags": []
          },
          "execution_count": 68
        }
      ]
    },
    {
      "cell_type": "markdown",
      "metadata": {
        "id": "NAqJjaGZCbL1",
        "colab_type": "text"
      },
      "source": [
        "# **A)**"
      ]
    },
    {
      "cell_type": "code",
      "metadata": {
        "id": "1Y3MAxbxe7vc",
        "colab_type": "code",
        "outputId": "80bde235-b3de-4ef6-b3bb-cd4b65f75c1a",
        "colab": {
          "base_uri": "https://localhost:8080/",
          "height": 54
        }
      },
      "source": [
        "print('w = ',svclassifier.coef_)\n",
        "print('b = ',svclassifier.intercept_)"
      ],
      "execution_count": 69,
      "outputs": [
        {
          "output_type": "stream",
          "text": [
            "w =  [[-0.01558306  0.35403518]]\n",
            "b =  [0.05553071]\n"
          ],
          "name": "stdout"
        }
      ]
    },
    {
      "cell_type": "markdown",
      "metadata": {
        "id": "evbTN80cCdmw",
        "colab_type": "text"
      },
      "source": [
        "# **B**)"
      ]
    },
    {
      "cell_type": "code",
      "metadata": {
        "id": "YUR_DhORewb-",
        "colab_type": "code",
        "outputId": "1a0aa3ec-5506-4172-f4f3-8711cbdbd403",
        "colab": {
          "base_uri": "https://localhost:8080/",
          "height": 35
        }
      },
      "source": [
        "from sklearn import metrics  \n",
        "\n",
        "# Predictions/probs on the test dataset\n",
        "predicted = pd.DataFrame(svclassifier.predict(X_test))  \n",
        "\n",
        "# Store metrics\n",
        "svm_accuracy = metrics.accuracy_score(y_test, predicted)  \n",
        "1-svm_accuracy"
      ],
      "execution_count": 70,
      "outputs": [
        {
          "output_type": "execute_result",
          "data": {
            "text/plain": [
              "0.5666666666666667"
            ]
          },
          "metadata": {
            "tags": []
          },
          "execution_count": 70
        }
      ]
    },
    {
      "cell_type": "markdown",
      "metadata": {
        "id": "rERhyfyEwb3w",
        "colab_type": "text"
      },
      "source": [
        "# **c)**"
      ]
    },
    {
      "cell_type": "code",
      "metadata": {
        "id": "xH11t3AXokCg",
        "colab_type": "code",
        "colab": {
          "base_uri": "https://localhost:8080/",
          "height": 283
        },
        "outputId": "b17ce1d3-cd57-4836-b118-4406abcbcfa8"
      },
      "source": [
        "import numpy as np\n",
        "import matplotlib.pyplot as plt\n",
        "\n",
        "w = svclassifier.coef_[0]\n",
        "print(w)\n",
        "\n",
        "a = -w[0] / w[1]\n",
        "\n",
        "xx = np.linspace(0,12)\n",
        "yy = a * xx - svclassifier.intercept_[0] / w[1]\n",
        "\n",
        "h0 = plt.plot(xx, yy, 'k-', label=\"non weighted div\")\n",
        "\n",
        "plt.scatter(X.iloc[:, 0], X.iloc[:, 1], c = y)\n",
        "plt.legend()\n",
        "plt.show()"
      ],
      "execution_count": 71,
      "outputs": [
        {
          "output_type": "stream",
          "text": [
            "[-0.01558306  0.35403518]\n"
          ],
          "name": "stdout"
        },
        {
          "output_type": "display_data",
          "data": {
            "image/png": "[encoded data removed]",
            "text/plain": [
              "<Figure size 432x288 with 1 Axes>"
            ]
          },
          "metadata": {
            "tags": []
          }
        }
      ]
    },
    {
      "cell_type": "markdown",
      "metadata": {
        "id": "c_QBeNysCfuL",
        "colab_type": "text"
      },
      "source": [
        "C)"
      ]
    },
    {
      "cell_type": "code",
      "metadata": {
        "id": "iP6Zk8O6QT2i",
        "colab_type": "code",
        "outputId": "9a18c2cc-1ce2-4b25-cbf3-a70945a4af14",
        "colab": {
          "base_uri": "https://localhost:8080/",
          "height": 283
        }
      },
      "source": [
        "import numpy as np\n",
        "import matplotlib.pyplot as plt\n",
        "\n",
        "w = svclassifier.coef_[0]\n",
        "print(w)\n",
        "\n",
        "a = -w[0] / w[1]\n",
        "\n",
        "xx = np.linspace(0,12)\n",
        "yy = a * xx - svclassifier.intercept_[0] / w[1]\n",
        "\n",
        "h0 = plt.plot(xx, yy, 'k-', label=\"non weighted div\")\n",
        "\n",
        "plt.scatter(X_test.iloc[:, 0], X_test.iloc[:, 1], c = y_test)\n",
        "plt.legend()\n",
        "plt.show()"
      ],
      "execution_count": 72,
      "outputs": [
        {
          "output_type": "stream",
          "text": [
            "[-0.01558306  0.35403518]\n"
          ],
          "name": "stdout"
        },
        {
          "output_type": "display_data",
          "data": {
            "image/png": "[encoded data removed]",
            "text/plain": [
              "<Figure size 432x288 with 1 Axes>"
            ]
          },
          "metadata": {
            "tags": []
          }
        }
      ]
    },
    {
      "cell_type": "code",
      "metadata": {
        "id": "hnDkCcBeOmjT",
        "colab_type": "code",
        "outputId": "42a28f44-ed43-4da7-a40d-03255d6a655d",
        "colab": {
          "base_uri": "https://localhost:8080/",
          "height": 35
        }
      },
      "source": [
        "from sklearn.preprocessing import StandardScaler\n",
        "\n",
        "# 4 samples/observations and 2 variables/features\n",
        "scaler = StandardScaler()\n",
        "X1=X.iloc[:, 0]\n",
        "X1 = scaler.fit_transform(X)\n",
        "X2 = scaler.fit_transform(X)\n",
        "\n",
        "type(X)"
      ],
      "execution_count": 73,
      "outputs": [
        {
          "output_type": "execute_result",
          "data": {
            "text/plain": [
              "pandas.core.frame.DataFrame"
            ]
          },
          "metadata": {
            "tags": []
          },
          "execution_count": 73
        }
      ]
    },
    {
      "cell_type": "code",
      "metadata": {
        "id": "DuB_LPXpD-Vv",
        "colab_type": "code",
        "outputId": "4234e5ca-7fce-440c-a964-945b7735053c",
        "colab": {
          "base_uri": "https://localhost:8080/",
          "height": 266
        }
      },
      "source": [
        "import matplotlib.pyplot as plt\n",
        "import numpy as np\n",
        "\n",
        "from mpl_toolkits.mplot3d import Axes3D  # noqa: F401 unused import\n",
        "\n",
        "fig = plt.figure()\n",
        "ax = fig.add_subplot(111, projection='3d')\n",
        "\n",
        "# Create the mesh in polar coordinates and compute corresponding Z.\n",
        "r = np.linspace(0, 1.25, 100)\n",
        "p = np.linspace(0, 2*np.pi, 100)\n",
        "R, P = np.meshgrid(r, p)\n",
        "Z = ((R**2 - 1)**2)\n",
        "\n",
        "# Express the mesh in the cartesian system.\n",
        "X, Y = R*np.cos(P), R*np.sin(P)\n",
        "\n",
        "# Plot the surface.\n",
        "ax.plot_surface(X1[:, 0], X1[:, 1], Z, cmap=plt.cm.YlGnBu_r)"
      ],
      "execution_count": 74,
      "outputs": [
        {
          "output_type": "execute_result",
          "data": {
            "text/plain": [
              "<mpl_toolkits.mplot3d.art3d.Poly3DCollection at 0x7f2ba12e4d30>"
            ]
          },
          "metadata": {
            "tags": []
          },
          "execution_count": 74
        },
        {
          "output_type": "display_data",
          "data": {
            "image/png": "[encoded data removed]",
            "text/plain": [
              "<Figure size 432x288 with 1 Axes>"
            ]
          },
          "metadata": {
            "tags": []
          }
        }
      ]
    },
    {
      "cell_type": "code",
      "metadata": {
        "id": "DAAaP6B8RfFd",
        "colab_type": "code",
        "outputId": "9c81b5d4-1df3-4d73-f9ae-c2d4f42e8474",
        "colab": {
          "base_uri": "https://localhost:8080/",
          "height": 35
        }
      },
      "source": [
        "import cmath\n",
        "cn = complex(3,4)\n",
        "# get polar coordinates\n",
        "print(\"Polar Coordinates: \",cmath.polar(cn))"
      ],
      "execution_count": 75,
      "outputs": [
        {
          "output_type": "stream",
          "text": [
            "Polar Coordinates:  (5.0, 0.9272952180016122)\n"
          ],
          "name": "stdout"
        }
      ]
    },
    {
      "cell_type": "code",
      "metadata": {
        "id": "DWfjsDs5ZZfL",
        "colab_type": "code",
        "colab": {}
      },
      "source": [
        ""
      ],
      "execution_count": 0,
      "outputs": []
    },
    {
      "cell_type": "code",
      "metadata": {
        "id": "d9zs9RyQZZWl",
        "colab_type": "code",
        "colab": {}
      },
      "source": [
        ""
      ],
      "execution_count": 0,
      "outputs": []
    }
  ]
}